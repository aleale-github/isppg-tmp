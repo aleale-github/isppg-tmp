{
 "cells": [
  {
   "cell_type": "markdown",
   "metadata": {},
   "source": [
    "### Import of Toolboxes and Input Data"
   ]
  },
  {
   "cell_type": "code",
   "execution_count": 1,
   "metadata": {},
   "outputs": [
    {
     "ename": "FileNotFoundError",
     "evalue": "[Errno 2] No such file or directory: 'WorstOffAutocallablePayoff_inputs.mat'",
     "output_type": "error",
     "traceback": [
      "\u001b[0;31m---------------------------------------------------------------------------\u001b[0m",
      "\u001b[0;31mFileNotFoundError\u001b[0m                         Traceback (most recent call last)",
      "\u001b[0;32m/opt/anaconda3/envs/tensorflow/lib/python3.6/site-packages/scipy/io/matlab/mio.py\u001b[0m in \u001b[0;36m_open_file\u001b[0;34m(file_like, appendmat)\u001b[0m\n\u001b[1;32m     30\u001b[0m     \u001b[0;32mtry\u001b[0m\u001b[0;34m:\u001b[0m\u001b[0;34m\u001b[0m\u001b[0;34m\u001b[0m\u001b[0m\n\u001b[0;32m---> 31\u001b[0;31m         \u001b[0;32mreturn\u001b[0m \u001b[0mopen\u001b[0m\u001b[0;34m(\u001b[0m\u001b[0mfile_like\u001b[0m\u001b[0;34m,\u001b[0m \u001b[0;34m'rb'\u001b[0m\u001b[0;34m)\u001b[0m\u001b[0;34m,\u001b[0m \u001b[0;32mTrue\u001b[0m\u001b[0;34m\u001b[0m\u001b[0;34m\u001b[0m\u001b[0m\n\u001b[0m\u001b[1;32m     32\u001b[0m     \u001b[0;32mexcept\u001b[0m \u001b[0mIOError\u001b[0m\u001b[0;34m:\u001b[0m\u001b[0;34m\u001b[0m\u001b[0;34m\u001b[0m\u001b[0m\n",
      "\u001b[0;31mFileNotFoundError\u001b[0m: [Errno 2] No such file or directory: 'WorstOffAutocallablePayoff_inputs.mat'",
      "\nDuring handling of the above exception, another exception occurred:\n",
      "\u001b[0;31mFileNotFoundError\u001b[0m                         Traceback (most recent call last)",
      "\u001b[0;32m<ipython-input-1-17aaffae18bc>\u001b[0m in \u001b[0;36m<module>\u001b[0;34m\u001b[0m\n\u001b[1;32m      3\u001b[0m \u001b[0;32mimport\u001b[0m \u001b[0mpandas\u001b[0m \u001b[0;32mas\u001b[0m \u001b[0mpd\u001b[0m\u001b[0;34m\u001b[0m\u001b[0;34m\u001b[0m\u001b[0m\n\u001b[1;32m      4\u001b[0m \u001b[0;34m\u001b[0m\u001b[0m\n\u001b[0;32m----> 5\u001b[0;31m \u001b[0mmat\u001b[0m \u001b[0;34m=\u001b[0m \u001b[0mspio\u001b[0m\u001b[0;34m.\u001b[0m\u001b[0mloadmat\u001b[0m\u001b[0;34m(\u001b[0m\u001b[0;34m'WorstOffAutocallablePayoff_inputs.mat'\u001b[0m\u001b[0;34m,\u001b[0m \u001b[0msqueeze_me\u001b[0m\u001b[0;34m=\u001b[0m\u001b[0;32mTrue\u001b[0m\u001b[0;34m)\u001b[0m\u001b[0;34m\u001b[0m\u001b[0;34m\u001b[0m\u001b[0m\n\u001b[0m",
      "\u001b[0;32m/opt/anaconda3/envs/tensorflow/lib/python3.6/site-packages/scipy/io/matlab/mio.py\u001b[0m in \u001b[0;36mloadmat\u001b[0;34m(file_name, mdict, appendmat, **kwargs)\u001b[0m\n\u001b[1;32m    205\u001b[0m     \"\"\"\n\u001b[1;32m    206\u001b[0m     \u001b[0mvariable_names\u001b[0m \u001b[0;34m=\u001b[0m \u001b[0mkwargs\u001b[0m\u001b[0;34m.\u001b[0m\u001b[0mpop\u001b[0m\u001b[0;34m(\u001b[0m\u001b[0;34m'variable_names'\u001b[0m\u001b[0;34m,\u001b[0m \u001b[0;32mNone\u001b[0m\u001b[0;34m)\u001b[0m\u001b[0;34m\u001b[0m\u001b[0;34m\u001b[0m\u001b[0m\n\u001b[0;32m--> 207\u001b[0;31m     \u001b[0mMR\u001b[0m\u001b[0;34m,\u001b[0m \u001b[0mfile_opened\u001b[0m \u001b[0;34m=\u001b[0m \u001b[0mmat_reader_factory\u001b[0m\u001b[0;34m(\u001b[0m\u001b[0mfile_name\u001b[0m\u001b[0;34m,\u001b[0m \u001b[0mappendmat\u001b[0m\u001b[0;34m,\u001b[0m \u001b[0;34m**\u001b[0m\u001b[0mkwargs\u001b[0m\u001b[0;34m)\u001b[0m\u001b[0;34m\u001b[0m\u001b[0;34m\u001b[0m\u001b[0m\n\u001b[0m\u001b[1;32m    208\u001b[0m     \u001b[0mmatfile_dict\u001b[0m \u001b[0;34m=\u001b[0m \u001b[0mMR\u001b[0m\u001b[0;34m.\u001b[0m\u001b[0mget_variables\u001b[0m\u001b[0;34m(\u001b[0m\u001b[0mvariable_names\u001b[0m\u001b[0;34m)\u001b[0m\u001b[0;34m\u001b[0m\u001b[0;34m\u001b[0m\u001b[0m\n\u001b[1;32m    209\u001b[0m     \u001b[0;32mif\u001b[0m \u001b[0mmdict\u001b[0m \u001b[0;32mis\u001b[0m \u001b[0;32mnot\u001b[0m \u001b[0;32mNone\u001b[0m\u001b[0;34m:\u001b[0m\u001b[0;34m\u001b[0m\u001b[0;34m\u001b[0m\u001b[0m\n",
      "\u001b[0;32m/opt/anaconda3/envs/tensorflow/lib/python3.6/site-packages/scipy/io/matlab/mio.py\u001b[0m in \u001b[0;36mmat_reader_factory\u001b[0;34m(file_name, appendmat, **kwargs)\u001b[0m\n\u001b[1;32m     60\u001b[0m \u001b[0;34m\u001b[0m\u001b[0m\n\u001b[1;32m     61\u001b[0m     \"\"\"\n\u001b[0;32m---> 62\u001b[0;31m     \u001b[0mbyte_stream\u001b[0m\u001b[0;34m,\u001b[0m \u001b[0mfile_opened\u001b[0m \u001b[0;34m=\u001b[0m \u001b[0m_open_file\u001b[0m\u001b[0;34m(\u001b[0m\u001b[0mfile_name\u001b[0m\u001b[0;34m,\u001b[0m \u001b[0mappendmat\u001b[0m\u001b[0;34m)\u001b[0m\u001b[0;34m\u001b[0m\u001b[0;34m\u001b[0m\u001b[0m\n\u001b[0m\u001b[1;32m     63\u001b[0m     \u001b[0mmjv\u001b[0m\u001b[0;34m,\u001b[0m \u001b[0mmnv\u001b[0m \u001b[0;34m=\u001b[0m \u001b[0mget_matfile_version\u001b[0m\u001b[0;34m(\u001b[0m\u001b[0mbyte_stream\u001b[0m\u001b[0;34m)\u001b[0m\u001b[0;34m\u001b[0m\u001b[0;34m\u001b[0m\u001b[0m\n\u001b[1;32m     64\u001b[0m     \u001b[0;32mif\u001b[0m \u001b[0mmjv\u001b[0m \u001b[0;34m==\u001b[0m \u001b[0;36m0\u001b[0m\u001b[0;34m:\u001b[0m\u001b[0;34m\u001b[0m\u001b[0;34m\u001b[0m\u001b[0m\n",
      "\u001b[0;32m/opt/anaconda3/envs/tensorflow/lib/python3.6/site-packages/scipy/io/matlab/mio.py\u001b[0m in \u001b[0;36m_open_file\u001b[0;34m(file_like, appendmat)\u001b[0m\n\u001b[1;32m     35\u001b[0m             \u001b[0;32mif\u001b[0m \u001b[0mappendmat\u001b[0m \u001b[0;32mand\u001b[0m \u001b[0;32mnot\u001b[0m \u001b[0mfile_like\u001b[0m\u001b[0;34m.\u001b[0m\u001b[0mendswith\u001b[0m\u001b[0;34m(\u001b[0m\u001b[0;34m'.mat'\u001b[0m\u001b[0;34m)\u001b[0m\u001b[0;34m:\u001b[0m\u001b[0;34m\u001b[0m\u001b[0;34m\u001b[0m\u001b[0m\n\u001b[1;32m     36\u001b[0m                 \u001b[0mfile_like\u001b[0m \u001b[0;34m+=\u001b[0m \u001b[0;34m'.mat'\u001b[0m\u001b[0;34m\u001b[0m\u001b[0;34m\u001b[0m\u001b[0m\n\u001b[0;32m---> 37\u001b[0;31m             \u001b[0;32mreturn\u001b[0m \u001b[0mopen\u001b[0m\u001b[0;34m(\u001b[0m\u001b[0mfile_like\u001b[0m\u001b[0;34m,\u001b[0m \u001b[0;34m'rb'\u001b[0m\u001b[0;34m)\u001b[0m\u001b[0;34m,\u001b[0m \u001b[0;32mTrue\u001b[0m\u001b[0;34m\u001b[0m\u001b[0;34m\u001b[0m\u001b[0m\n\u001b[0m\u001b[1;32m     38\u001b[0m         \u001b[0;32melse\u001b[0m\u001b[0;34m:\u001b[0m\u001b[0;34m\u001b[0m\u001b[0;34m\u001b[0m\u001b[0m\n\u001b[1;32m     39\u001b[0m             \u001b[0;32mraise\u001b[0m \u001b[0mIOError\u001b[0m\u001b[0;34m(\u001b[0m\u001b[0;34m'Reader needs file name or open file-like object'\u001b[0m\u001b[0;34m)\u001b[0m\u001b[0;34m\u001b[0m\u001b[0;34m\u001b[0m\u001b[0m\n",
      "\u001b[0;31mFileNotFoundError\u001b[0m: [Errno 2] No such file or directory: 'WorstOffAutocallablePayoff_inputs.mat'"
     ]
    }
   ],
   "source": [
    "import scipy.io as spio\n",
    "import numpy as np\n",
    "import pandas as pd\n",
    "\n",
    "mat = spio.loadmat('WorstOffAutocallablePayoff_inputs.mat', squeeze_me=True)"
   ]
  },
  {
   "cell_type": "markdown",
   "metadata": {},
   "source": [
    "### Defininition of the Payoff Function"
   ]
  },
  {
   "cell_type": "code",
   "execution_count": null,
   "metadata": {},
   "outputs": [],
   "source": [
    "def worst_off_autocallable_payoff(para_prod, risk_factor, barrier_factor,num_coupon_fix,num_sim):\n",
    "    \n",
    "    # Index Calculation\n",
    "    # 'rf1' is obtained from the 3-d tensor 'risk_factor' \n",
    "    # by using all its slices except the first one (risk_factor[:,:,[0]]) \n",
    "    # used to renormalize the others\n",
    "    rf1 = np.divide(risk_factor[:,:,1:],risk_factor[:,:,[0]])\n",
    "    \n",
    "    # Correction for Worst of\n",
    "    # 'rf' is a 2-d array obtained by taking the minimum along the second axis of 'rf1'\n",
    "    # 'rf1' is a 3-d tensor where each dimension represents respectively \n",
    "    # the number of simulations, the assets and the number of events.\n",
    "    rf = np.amin(rf1,axis=1)\n",
    "    # 'bf1' is obtained by normalizing the 2-d array 'barrier_factor' using the first slice of 'risk_factor'    \n",
    "    bf1 = barrier_factor / risk_factor[:,:,0]\n",
    "    # 'bf' is obtained by taking the minimum along the columns of 'bf1'\n",
    "    bf = np.min(bf1, axis=1)\n",
    "        \n",
    "    # Digital Effect\n",
    "    # 'pointer_digital_effect' and 'coupon_digital' 2-d arrays are obtained using two different portions of the para_prod array\n",
    "    # 'digital_effect' 2-d array is obtained creating a boolean, which checks where 'rf' is bigger than the first 24 elements of\n",
    "    # 'para_prod' 1-d array, which is then multiplied by 'coupon_digital' and 'pointer_digital_effect'\n",
    "    pointer_digital_effect = para_prod[-(num_coupon_fix*3):-(num_coupon_fix*2), None].T        \n",
    "    coupon_digital = para_prod[(num_coupon_fix*2):(num_coupon_fix*3)]\n",
    "    digital_effect = (np.greater_equal(rf, para_prod[:num_coupon_fix]) * coupon_digital ) * pointer_digital_effect\n",
    "    \n",
    "    # Autocall Effect\n",
    "    # the 'pointer_autocall_effect' 1-d array is obtained taking a portion of 'para_prod' 1-d array\n",
    "    pointer_autocall_effect = para_prod[-(num_coupon_fix*2):-(num_coupon_fix), None].T\n",
    "    \n",
    "    # Pointer Matrix\n",
    "    # - 'pointer_auto_call' is initially obtained creating a boolean, defining where 'rf' is bigger than a specified portion of \n",
    "    #    the 'para_prod' 1-d array\n",
    "    # - it is defined a list of indices indicating where the 'pointer_autocall_effect' 1-d array elements are equal to 0\n",
    "    # - the 'pointer_auto_call' values are replaced with 0 using the defined list od indices, by columns\n",
    "    # - it is calculcated the cumulated sum by rows of 'pointer_auto_call'\n",
    "    # - the elements of 2-d array 'pointer_auto_call' bigger than 1 are replaced by 30000\n",
    "    # - the elements of the last column of 'pointer_auto_call' equal to 0 are replaced by 10000\n",
    "    # - the elements 'pointer_auto_call' equal to 10000 are replaced by 3\n",
    "    # - the elements 'pointer_auto_call' equal to 20000 are replaced by 2\n",
    "    # - the elements 'pointer_auto_call' equal to 30000 are replaced by 0\n",
    "    pointer_auto_call = np.greater_equal(rf, para_prod[num_coupon_fix:num_coupon_fix*2]).astype(int)\n",
    "    pointer_auto_call[:, np.where(pointer_autocall_effect == 0)] = 0\n",
    "    pointer_auto_call = np.cumsum(pointer_auto_call, axis=1)\n",
    "    pointer_auto_call[np.where(pointer_auto_call > 1)] = 30000\n",
    "    pointer_auto_call[np.where(pointer_auto_call[:,-1] == 0)] = 10000\n",
    "    pointer_auto_call[np.where(pointer_auto_call == 10000)] = 3\n",
    "    pointer_auto_call[np.where(pointer_auto_call == 20000)] = 2\n",
    "    pointer_auto_call[np.where(pointer_auto_call == 30000)] = 0\n",
    "    \n",
    "    # Autocall Coupon T-\n",
    "    # - 'auto_call_coupon' is equal to 2-d 'digital_effect' array\n",
    "    # - the 'auto_call_coupon' values are replaced with 1 where the 'pointer_auto_call' 2-d array elements are equal to 1\n",
    "    # - the 'auto_call_coupon' values are replaced with 0 where the 'pointer_auto_call' 2-d array elements are equal to 0\n",
    "    auto_call_coupon = digital_effect\n",
    "    auto_call_coupon[np.where(pointer_auto_call == 1)] += 1\n",
    "    auto_call_coupon[np.where(pointer_auto_call == 0)] = 0\n",
    "    \n",
    "    # Autocall Coupon T\n",
    "    # - 'pointer_auto_call_end' is obtained taking the last column of 'pointer_auto_call' 2-d array\n",
    "    # - 'payoff_end' is initially set equal to 1-d array 'bf'\n",
    "    # - 'payoff_end' is set equal to a defined value of 'para_prod' for the indices in which 'bf' is grater than or equal to a \n",
    "    #    different specific value of 'para_prod'\n",
    "    # - 'payoff_end' is set equal to a defined value of 'para_prod' for the indices in which 'bf' is grater than or equal to a \n",
    "    #    different specific value of 'para_prod'\n",
    "    # -  the 'payoff_end' values are replaced with 0 where the 'pointer_auto_call_end' 1-d array elements are different to 3\n",
    "    # -  the last column of 'auto_call_coupon' is replaced with 1-d 'payoff_end' array\n",
    "    pointer_auto_call_end = pointer_auto_call[:,-1]\n",
    "    payoff_end = np.copy(bf)\n",
    "    payoff_end[np.greater_equal(bf,para_prod[num_coupon_fix*2-1])] = para_prod[num_coupon_fix*3]\n",
    "    payoff_end[np.greater_equal(bf,para_prod[num_coupon_fix-1])] = para_prod[num_coupon_fix*3+1]\n",
    "    payoff_end[np.where(pointer_auto_call_end != 3)] = 0\n",
    "    auto_call_coupon[:,-1] = payoff_end\n",
    "    \n",
    "    # Fix Coupon\n",
    "    # - 2-d array 'coupon_fix' is obtained as the repetition of a portion of 'para_prod' how many times as the number of \n",
    "    #   simulation are\n",
    "    # - 'payoff' is equal to 'auto_call_coupon' 2-d array\n",
    "    coupon_fix = np.repeat(para_prod[-(num_coupon_fix):][np.newaxis].T, num_sim, axis=1).T\n",
    "    payoff = auto_call_coupon\n",
    "    \n",
    "    return payoff, coupon_fix"
   ]
  },
  {
   "cell_type": "markdown",
   "metadata": {},
   "source": [
    "### Function Execution"
   ]
  },
  {
   "cell_type": "code",
   "execution_count": null,
   "metadata": {},
   "outputs": [],
   "source": [
    "Payoff, CouponFix = worst_off_autocallable_payoff(mat['ParaProd'], mat[\"RiskFactor\"], mat[\"BarrierFactor\"], mat[\"NumCouponFix\"], mat[\"NumSim\"])\n",
    "Payoff = pd.DataFrame(Payoff)\n",
    "CouponFix = pd.DataFrame(CouponFix)"
   ]
  },
  {
   "cell_type": "markdown",
   "metadata": {
    "collapsed": true
   },
   "source": [
    "### Load Matlab Results"
   ]
  },
  {
   "cell_type": "code",
   "execution_count": null,
   "metadata": {},
   "outputs": [],
   "source": [
    "MatPayoff = pd.read_csv('Payoff.csv', header=None)\n",
    "MatCouponFix = pd.read_csv('CouponFixed.csv', header=None)"
   ]
  },
  {
   "cell_type": "markdown",
   "metadata": {},
   "source": [
    "### Check compatibility with matlab results"
   ]
  },
  {
   "cell_type": "code",
   "execution_count": null,
   "metadata": {},
   "outputs": [],
   "source": [
    "assert np.isclose(Payoff,MatPayoff).all()\n",
    "assert np.isclose(CouponFix, MatCouponFix).all()"
   ]
  },
  {
   "cell_type": "markdown",
   "metadata": {},
   "source": [
    "### Differences between Python and Matlab"
   ]
  },
  {
   "cell_type": "code",
   "execution_count": null,
   "metadata": {},
   "outputs": [],
   "source": [
    "payoff_diff = ((Payoff - MatPayoff) / MatPayoff).round(15)\n",
    "payoff_diff.fillna(0, inplace=True)\n",
    "coupon_fix_diff = ((CouponFix - MatCouponFix) / MatCouponFix).round(15)\n",
    "coupon_fix_diff.fillna(0, inplace=True)"
   ]
  },
  {
   "cell_type": "markdown",
   "metadata": {},
   "source": [
    "### Payoff Results"
   ]
  },
  {
   "cell_type": "code",
   "execution_count": null,
   "metadata": {
    "scrolled": true
   },
   "outputs": [],
   "source": [
    "pd.DataFrame(np.transpose([Payoff.iloc[:,-1], MatPayoff.iloc[:,-1], payoff_diff.iloc[:,-1].abs()]), columns=[\"Payoff Python\", \"Payoff Matlab\", \"Differences\"])"
   ]
  },
  {
   "cell_type": "code",
   "execution_count": null,
   "metadata": {},
   "outputs": [],
   "source": []
  }
 ],
 "metadata": {
  "kernelspec": {
   "display_name": "Python 3",
   "language": "python",
   "name": "python3"
  },
  "language_info": {
   "codemirror_mode": {
    "name": "ipython",
    "version": 3
   },
   "file_extension": ".py",
   "mimetype": "text/x-python",
   "name": "python",
   "nbconvert_exporter": "python",
   "pygments_lexer": "ipython3",
   "version": "3.6.8"
  }
 },
 "nbformat": 4,
 "nbformat_minor": 2
}
